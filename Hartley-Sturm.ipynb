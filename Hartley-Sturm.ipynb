{
 "cells": [
  {
   "cell_type": "code",
   "execution_count": 1,
   "metadata": {
    "collapsed": false
   },
   "outputs": [],
   "source": [
    "import numpy as np\n",
    "from scipy import linalg as la\n",
    "import numpy as np\n",
    "import matplotlib\n",
    "from mpl_toolkits.mplot3d import Axes3D\n",
    "import matplotlib.pyplot as plt\n",
    "%run camera_functions\n",
    "%matplotlib inline"
   ]
  },
  {
   "cell_type": "markdown",
   "metadata": {},
   "source": [
    "# Hartley-Sturm Algorithm (1997)\n",
    "* Input: \n",
    "    * $n$ randomly scattered 3D points\n",
    "    * Two cameras, positions known\n",
    "* Output: \n",
    "    * Optimal 3D triangulation"
   ]
  },
  {
   "cell_type": "code",
   "execution_count": 2,
   "metadata": {
    "collapsed": true
   },
   "outputs": [],
   "source": [
    "def compute_view_matrix(position, target, up):\n",
    "    '''\n",
    "    Inputs: \n",
    "        position : 3D coordinates of the camera center in world coordinates\n",
    "        target : 3D coordinates of the camera target in world coordinates\n",
    "        up : vector specifying the up direction of the camera. should be orthogonal to (target-position)\n",
    "    Outputs:\n",
    "        P : 3 x 4 camera extrinsic matrix, a concatenation of rotation matrix and translation matrix\n",
    "    '''\n",
    "    L = target - position\n",
    "    L = L / np.linalg.norm(L)\n",
    "    s = np.cross(L, up)\n",
    "    s = s / np.linalg.norm(s)\n",
    "    u_prime = np.cross(s,L)\n",
    "    R = np.r_[s,u_prime,-L].reshape((3,3))\n",
    "    T = -R @ position\n",
    "    P = np.c_[R,T]\n",
    "    return P\n",
    "\n",
    "def project(position,target,up,X):\n",
    "    '''\n",
    "    Given camera extrinsic details, and 3D points X, \n",
    "    return the homogenous coordinates of Y,\n",
    "    which are projected into the camera plane.\n",
    "    See compute_view_matrix() details\n",
    "    '''\n",
    "    P = compute_view_matrix(position,target,up)\n",
    "    if len(X.shape) > 1:\n",
    "        _,n = X.shape\n",
    "        Y = P @ np.r_[X,np.ones((1,n))]\n",
    "        Y /= Y[2,:]\n",
    "        return Y\n",
    "    else:\n",
    "        Y = P @ np.r_[X,1]\n",
    "        Y /= Y[2]\n",
    "        return Y\n",
    "\n",
    "def fundamental_matrix(Y,Yp):\n",
    "    '''\n",
    "    Inputs:\n",
    "        Y : all keypoints from camera 1 in homogenous coordinates in a (3 x n_kp) matrix\n",
    "        Yp : same from camera 2\n",
    "    Outputs:\n",
    "        F : fundamental matrix between stereo cameras\n",
    "    Desc:\n",
    "        Solved using the 7-point algorithm. It is assumed that matching keypoints are aligned\n",
    "        by column. At least 7 matches required. \n",
    "    TODO: \n",
    "        Implement normalized version. Camera intrinsics needed?\n",
    "    '''\n",
    "    n = Y.shape[1]\n",
    "    X = np.zeros((n,9))\n",
    "    for i in range(n):\n",
    "        X[i] = np.outer(Yp[:,i],Y[:,i]).flatten()\n",
    "        \n",
    "    U,S,Vh = la.svd(X)\n",
    "    F = Vh[len(Vh)-1].reshape((3,3))\n",
    "    U,S,Vh = la.svd(F)\n",
    "    S[2] = 0\n",
    "    F = U @ np.diag(S) @ Vh\n",
    "    return F"
   ]
  },
  {
   "cell_type": "code",
   "execution_count": 46,
   "metadata": {
    "collapsed": true
   },
   "outputs": [],
   "source": [
    "def rigid_normalize(x,e):\n",
    "    # Transform x to be at the origin and compute L\n",
    "    L = np.eye(3)\n",
    "    L[:2,2] = -x[:2]\n",
    "#     e = L @ e\n",
    "    # Find rotation theta by using the epipolar line\n",
    "    theta = np.arctan( - (e[1] - e[2] * x[1]) / (e[0] - e[2] * x[0]) )\n",
    "    R = np.array( [ [np.cos(theta), -np.sin(theta),0],[np.sin(theta),np.cos(theta),0],[0,0,1] ] )\n",
    "    T = R @ L\n",
    "    # Enforce that RLe[0] = 1\n",
    "#     T /= (T @ e)[0]\n",
    "#     print( (T @ e)[2])\n",
    "    print( (T @ e)[2] / (T @ e)[0])\n",
    "    return T\n",
    "    "
   ]
  },
  {
   "cell_type": "code",
   "execution_count": 27,
   "metadata": {
    "collapsed": true
   },
   "outputs": [],
   "source": [
    "def fundamental_normalize(x,xp,e,ep,F0):\n",
    "    '''\n",
    "    Calculate the fundamental matrix between a pair of points that are\n",
    "    normalized to be at the origin, and for the epipoles normalized to\n",
    "    be on the x axis\n",
    "    '''\n",
    "    print('f = ')\n",
    "    T = rigid_normalize(x,e)\n",
    "    print('f\\' = ')\n",
    "    Tp = rigid_normalize(xp,ep)\n",
    "#     F = Tp @ F0 @ la.pinv(T)\n",
    "    F = la.pinv(Tp.T) @ F0 @ la.pinv(T)\n",
    "    return T,Tp,F\n",
    "    "
   ]
  },
  {
   "cell_type": "code",
   "execution_count": 5,
   "metadata": {
    "collapsed": true
   },
   "outputs": [],
   "source": [
    "def hartley_sturm_single_point(x,xp,e,ep,F0):\n",
    "    T,Tp,F = fundamental_normalize(x,xp,e,ep,F0)\n",
    "    \n",
    "    a = F[1,1]\n",
    "    b = F[1,2]\n",
    "    c = F[2,1]\n",
    "    d = F[2,2]\n",
    "    f = -F[2,0] / d\n",
    "    fp = -F[0,2] / d\n",
    "    print('From the fundamental matrix:')\n",
    "    print('f = ', f)\n",
    "    print('f\\'= ', fp)\n",
    "    \n",
    "    alpha = a**2 + fp**2 * c**2\n",
    "    beta = 2*a*b + 2*c*d*fp**2\n",
    "    gamma = b**2 + d**2 * fp**2\n",
    "    \n",
    "    # coefficients are co0 through co6\n",
    "    co6 = a*c*f**4\n",
    "    co5 = a*b*f**4 + b*c*f**4 + alpha\n",
    "    co4 = b*d*f**4 + 2*a*c*f**2 + 2*alpha*beta\n",
    "    co3 = 2*a*d*f**2 + 2*b*c*f**2 + 2*alpha*gamma + beta**2\n",
    "    co2 = a*c + 2*b*d*f**2 + 2*beta*gamma\n",
    "    co1 = b*c + a*d + gamma**2\n",
    "    co0 = b*d\n",
    "    \n",
    "    # Find real roots, accounting for some numerical instability\n",
    "    r = np.roots(np.array([co6,co5,co4,co3,co2,co1,co0]))\n",
    "    r_real = r[np.abs(np.imag(r)) <= 0.01]\n",
    "    r_real = np.real(r_real)\n",
    "    if len(r_real) == 0:\n",
    "        print(\"No real roots found\")\n",
    "        print(\"Returning vector of roots for inspection\")\n",
    "        return r\n",
    "    \n",
    "    s = lambda t : t**2 / ( 1 + (t*f)**2 ) + ( c*t + d )**2 / ( (a*t + b)**2 + fp**2 * (c*t + d)**2 )\n",
    "    # Solve s at the real roots and take the minimum\n",
    "    sr = s(r_real)\n",
    "    t = r_real[np.argmin(sr)]\n",
    "    return t"
   ]
  },
  {
   "cell_type": "markdown",
   "metadata": {},
   "source": [
    "# Begin Simulation\n",
    "* Scatter Random 3D Points\n",
    "* Define Camera Positions\n",
    "* Project 2D Points\n",
    "* Calculate epipoles\n",
    "* Calculate Fundamental Matrix"
   ]
  },
  {
   "cell_type": "code",
   "execution_count": 6,
   "metadata": {
    "collapsed": false
   },
   "outputs": [],
   "source": [
    "# n Target points \n",
    "n = 10\n",
    "X = np.random.uniform(-3,3,(3,n))\n",
    "\n",
    "cam1_pos = np.array([-5,-5,0])\n",
    "cam1_tgt = np.array([0,0,0])\n",
    "cam1_up = np.array([0,0,1])\n",
    "Y1 = project(cam1_pos, cam1_tgt, cam1_up, X)\n",
    "\n",
    "cam2_pos = np.array([-5,5,1])\n",
    "cam2_tgt = np.array([0,0,0])\n",
    "cam2_up = np.array([0,-1,5])\n",
    "Y2 = project(cam2_pos, cam2_tgt, cam2_up, X)\n",
    "\n",
    "e = project(cam1_pos, cam1_tgt, cam1_up, cam2_pos)\n",
    "ep = project(cam2_pos, cam2_tgt, cam2_up, cam1_pos)"
   ]
  },
  {
   "cell_type": "code",
   "execution_count": 7,
   "metadata": {
    "collapsed": false
   },
   "outputs": [
    {
     "name": "stdout",
     "output_type": "stream",
     "text": [
      "[ 1.         -0.14142136  1.        ] [-0.98058068 -0.13730876  1.        ]\n"
     ]
    }
   ],
   "source": [
    "print(e,ep)"
   ]
  },
  {
   "cell_type": "code",
   "execution_count": 8,
   "metadata": {
    "collapsed": false
   },
   "outputs": [
    {
     "name": "stdout",
     "output_type": "stream",
     "text": [
      "[-7.07106781  1.         -7.07106781] [ 7.00274671  0.98058068 -7.14142843]\n"
     ]
    }
   ],
   "source": [
    "P1 = compute_view_matrix(cam1_pos,cam1_tgt,cam1_up)\n",
    "P2 = compute_view_matrix(cam2_pos,cam2_tgt,cam2_up)\n",
    "e1 = P1 @ np.r_[cam2_pos,1]\n",
    "e2 = P2 @ np.r_[cam1_pos,1]\n",
    "print(e1,e2)"
   ]
  },
  {
   "cell_type": "code",
   "execution_count": 50,
   "metadata": {
    "collapsed": false
   },
   "outputs": [
    {
     "name": "stdout",
     "output_type": "stream",
     "text": [
      "f = \n",
      "0.8170680068723477\n",
      "f' = \n",
      "-1.3107936753955978\n",
      "[[ 1.36627322e-03  5.02372550e-01  6.96799341e-02]\n",
      " [ 4.97614263e-01 -3.05311332e-16 -4.97614263e-01]\n",
      " [ 6.96665380e-02  4.92616815e-01  1.24900090e-16]]\n",
      "[[ 3.99715555e-16  5.01312573e-01 -1.94289029e-16]\n",
      " [ 4.98666419e-01  4.18400187e-03 -6.10312012e-01]\n",
      " [ 2.02785787e-16  3.82449643e-01 -5.55111512e-17]]\n",
      "[-8.65419739  0.         -7.07106781]\n",
      "[ 5.44817126e+00 -4.44089210e-16 -7.14142843e+00]\n"
     ]
    }
   ],
   "source": [
    "F0 = fundamental_matrix(Y1,Y2)\n",
    "e1_norm = e1 / la.norm(e1[:2])\n",
    "e2_norm = e2 / la.norm(e2[:2])\n",
    "T1,T2,F = fundamental_normalize(Y1[:,0],Y2[:,0],e1,e2,F0)\n",
    "print(F0)\n",
    "print(F)\n",
    "print(T1 @ e1)\n",
    "print(T2 @ e2)"
   ]
  },
  {
   "cell_type": "code",
   "execution_count": 51,
   "metadata": {
    "collapsed": false
   },
   "outputs": [
    {
     "name": "stdout",
     "output_type": "stream",
     "text": [
      "[-2.08538641e-15  0.00000000e+00 -1.36242512e-15]\n",
      "[ 5.08086237e-16  9.48427344e-16 -3.91058013e-16]\n",
      "[0. 0. 1.]\n",
      "[0. 0. 1.]\n",
      "-5.551115123125783e-17\n"
     ]
    }
   ],
   "source": [
    "print( F @ (T1 @ e1) ) \n",
    "print( T2 @ e2 @ F)\n",
    "print(T2 @ Y2[:,0])\n",
    "print(T1 @ Y1[:,0])\n",
    "print((T2 @ Y2[:,0]).T @ F @ (T1 @ Y1[:,0]))"
   ]
  },
  {
   "cell_type": "code",
   "execution_count": 52,
   "metadata": {
    "collapsed": false
   },
   "outputs": [
    {
     "name": "stdout",
     "output_type": "stream",
     "text": [
      "-3.5\n",
      "-1.3107936753955982\n",
      "0.8170680068723478\n",
      "3.653063984800737\n"
     ]
    }
   ],
   "source": [
    "print(-F[0,2] / F[2,2])\n",
    "print(-F[0,1] / F[2,1])\n",
    "print(-F[1,0] / F[1,2])\n",
    "print(-F[2,0] / F[2,2])"
   ]
  },
  {
   "cell_type": "code",
   "execution_count": 13,
   "metadata": {
    "collapsed": false
   },
   "outputs": [
    {
     "name": "stdout",
     "output_type": "stream",
     "text": [
      "[ 1.         -0.14142136  1.        ]\n",
      "[-0.98058068 -0.13730876  1.        ]\n"
     ]
    }
   ],
   "source": [
    "print(e)\n",
    "print(ep)"
   ]
  },
  {
   "cell_type": "code",
   "execution_count": 14,
   "metadata": {
    "collapsed": false
   },
   "outputs": [
    {
     "name": "stdout",
     "output_type": "stream",
     "text": [
      "f = \n",
      "0.6712967587992348\n",
      "f' = \n",
      "-0.7541094909721898\n",
      "From the fundamental matrix:\n",
      "f =  1.3425935175984707\n",
      "f'=  0.9399621015161145\n",
      "-0.3335134852781318\n"
     ]
    }
   ],
   "source": [
    "t = hartley_sturm_single_point(Y1[:,0],Y2[:,0],e,ep,F0)\n",
    "print(t)"
   ]
  },
  {
   "cell_type": "markdown",
   "metadata": {},
   "source": [
    "## Debugging stuff below here"
   ]
  },
  {
   "cell_type": "code",
   "execution_count": 16,
   "metadata": {
    "collapsed": false
   },
   "outputs": [
    {
     "name": "stdout",
     "output_type": "stream",
     "text": [
      "f = \n",
      "0.6712967587992348\n",
      "f' = \n",
      "-0.7541094909721898\n",
      "[[-0.03234103 -0.46355737  0.09927798]\n",
      " [-0.57792444  0.08008265  0.70248111]\n",
      " [ 0.14180356 -0.54060509 -0.10561913]]\n",
      "0.0800826452459424 0.7024811132798476 -0.5406050860666637 -0.10561913372330964 1.3425935175984707 0.9399621015161145\n"
     ]
    }
   ],
   "source": [
    "T,Tp,F = fundamental_normalize(Y1[:,0],Y2[:,0],e,ep,F0)\n",
    "print(F)\n",
    "a = F[1,1]\n",
    "b = F[1,2]\n",
    "c = F[2,1]\n",
    "d = F[2,2]\n",
    "f = -F[2,0] / d\n",
    "fp = -F[0,2] / d\n",
    "print(a,b,c,d,f,fp)"
   ]
  },
  {
   "cell_type": "code",
   "execution_count": 17,
   "metadata": {
    "collapsed": false
   },
   "outputs": [
    {
     "name": "stdout",
     "output_type": "stream",
     "text": [
      "[0.10094894 0.36522215 0.        ]\n",
      "[ 1.00948942e-01 -9.71705661e-01  3.65343819e-18]\n"
     ]
    }
   ],
   "source": [
    "print(F @ np.array([1,0,f]))\n",
    "print(np.array([1,0,fp]) @ F)"
   ]
  },
  {
   "cell_type": "code",
   "execution_count": 120,
   "metadata": {
    "collapsed": false
   },
   "outputs": [
    {
     "name": "stdout",
     "output_type": "stream",
     "text": [
      "[-4.16333634e-17 -1.99840144e-15 -3.19189120e-16]\n",
      "[-2.63677968e-16  4.44089210e-16  3.08255762e-16]\n",
      "0.22525421325766157\n"
     ]
    }
   ],
   "source": [
    "print(F0 @ e)\n",
    "print(ep @ F0)\n",
    "print(np.array([0,0,1]) @ F @ np.array([0,0,1]))"
   ]
  },
  {
   "cell_type": "code",
   "execution_count": 114,
   "metadata": {
    "collapsed": false
   },
   "outputs": [
    {
     "name": "stdout",
     "output_type": "stream",
     "text": [
      "[0.         0.         0.71780805]\n",
      "[ 6.93889390e-18 -2.77555756e-17 -9.79967834e-01]\n",
      "[1.         0.         0.71780805]\n",
      "[ 1.00000000e+00  2.77555756e-17 -9.79967834e-01]\n"
     ]
    }
   ],
   "source": [
    "print(T @ Y1[:,0])\n",
    "print(Tp @ Y2[:,0])\n",
    "print(T @ e)\n",
    "print(Tp @ ep)"
   ]
  },
  {
   "cell_type": "code",
   "execution_count": 50,
   "metadata": {
    "collapsed": false
   },
   "outputs": [
    {
     "data": {
      "text/plain": [
       "<Figure size 432x288 with 0 Axes>"
      ]
     },
     "metadata": {},
     "output_type": "display_data"
    },
    {
     "data": {
      "image/png": "[encoded data removed]",
      "text/plain": [
       "<Figure size 864x432 with 2 Axes>"
      ]
     },
     "metadata": {
      "needs_background": "light"
     },
     "output_type": "display_data"
    }
   ],
   "source": [
    "plt.gray()\n",
    "fig = plt.figure(figsize=(12,6))\n",
    "ax = fig.add_subplot(121)\n",
    "ax.scatter(Y1[0,:],Y1[1,:],c=X[1,:],s=100)\n",
    "ax = fig.add_subplot(122)\n",
    "ax.scatter(Y2[0,:],Y2[1,:],c=X[1,:],s=100)\n",
    "plt.show()"
   ]
  },
  {
   "cell_type": "code",
   "execution_count": 116,
   "metadata": {
    "collapsed": false
   },
   "outputs": [
    {
     "data": {
      "text/plain": [
       "<function matplotlib.pyplot.show(*args, **kw)>"
      ]
     },
     "execution_count": 116,
     "metadata": {},
     "output_type": "execute_result"
    },
    {
     "data": {
      "image/png": "[encoded data removed]",
      "text/plain": [
       "<Figure size 864x864 with 4 Axes>"
      ]
     },
     "metadata": {
      "needs_background": "light"
     },
     "output_type": "display_data"
    }
   ],
   "source": [
    "fig = plt.figure(figsize=(12,12))\n",
    "ax= fig.add_subplot(221)\n",
    "# Pre-normalization\n",
    "ax.scatter(Y1[0,1:],Y1[1,1:],c='m') # regular points\n",
    "ax.scatter(Y1[0,0],Y1[1,0],c='r',marker='*',s=100) # normalizing point\n",
    "ax.scatter(e[0],e[1],c='b') # epipole\n",
    "ax.set_xlim(-2,2)\n",
    "ax.set_ylim(-2,2)\n",
    "ax.grid(True)\n",
    "# Post-normalization\n",
    "Y1n = T @ Y1\n",
    "en = T @ e\n",
    "ax = fig.add_subplot(222)\n",
    "ax.scatter(Y1n[0,1:],Y1n[1,1:],c='m') # regular points\n",
    "ax.scatter(Y1n[0,0],Y1n[1,0],c='r',marker='*',s=100) # normalizing point\n",
    "ax.scatter(en[0],en[1],c='b') # epipole\n",
    "ax.set_xlim(-2,2)\n",
    "ax.set_ylim(-2,2)\n",
    "ax.grid(True)\n",
    "# Pre-normalization\n",
    "ax = fig.add_subplot(223)\n",
    "ax.scatter(Y2[0,1:],Y2[1,1:],c='m') # regular points\n",
    "ax.scatter(Y2[0,0],Y2[1,0],c='r',marker='*',s=100) # normalizing point\n",
    "ax.scatter(ep[0],ep[1],c='b') # epipole\n",
    "ax.set_xlim(-2,2)\n",
    "ax.set_ylim(-2,2)\n",
    "ax.grid(True)\n",
    "# Post-normalization\n",
    "Y2n = Tp @ Y2\n",
    "epn = Tp @ ep\n",
    "ax = fig.add_subplot(224)\n",
    "ax.scatter(Y2n[0,1:],Y2n[1,1:],c='m') # regular points\n",
    "ax.scatter(Y2n[0,0],Y2n[1,0],c='r',marker='*',s=100) # normalizing point\n",
    "ax.scatter(epn[0],epn[1],c='b') # epipole\n",
    "ax.set_xlim(-2,2)\n",
    "ax.set_ylim(-2,2)\n",
    "ax.grid(True)\n",
    "\n",
    "plt.show"
   ]
  },
  {
   "cell_type": "code",
   "execution_count": 74,
   "metadata": {
    "collapsed": false
   },
   "outputs": [
    {
     "name": "stdout",
     "output_type": "stream",
     "text": [
      "0.1463939557657704\n",
      "-0.8467515254185236\n",
      "0.19080000909980313\n",
      "[[-0.02195851 -0.40984859  0.02795278]\n",
      " [-0.52439245  0.11414333  0.66754193]\n",
      " [ 0.11508653 -0.48402463 -0.14650303]]\n"
     ]
    }
   ],
   "source": [
    "f = 1.0238424305833052\n",
    "fp = -.822070923513809\n",
    "a = F[1,1]\n",
    "b = F[1,2]\n",
    "c = F[2,1]\n",
    "d = F[2,2]\n",
    "# print(f*fp*d)\n",
    "# print(-fp*c)\n",
    "# print(-fp*d)\n",
    "# print(-f*b)\n",
    "# print(-f*d)\n",
    "print(F[0,0] / f / d)\n",
    "print(-F[0,1] / c)\n",
    "print(-F[0,2] / d)\n",
    "print(F)"
   ]
  },
  {
   "cell_type": "code",
   "execution_count": null,
   "metadata": {
    "collapsed": true
   },
   "outputs": [],
   "source": []
  }
 ],
 "metadata": {
  "anaconda-cloud": {},
  "kernelspec": {
   "display_name": "Python [conda env:py37]",
   "language": "python",
   "name": "conda-env-py37-py"
  },
  "language_info": {
   "codemirror_mode": {
    "name": "ipython",
    "version": 3
   },
   "file_extension": ".py",
   "mimetype": "text/x-python",
   "name": "python",
   "nbconvert_exporter": "python",
   "pygments_lexer": "ipython3",
   "version": "3.5.6"
  }
 },
 "nbformat": 4,
 "nbformat_minor": 1
}
