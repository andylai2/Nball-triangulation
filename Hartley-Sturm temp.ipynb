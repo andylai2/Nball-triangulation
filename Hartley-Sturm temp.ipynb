{
 "cells": [
  {
   "cell_type": "code",
   "execution_count": 2,
   "metadata": {
    "collapsed": true
   },
   "outputs": [],
   "source": [
    "import numpy as np\n",
    "from scipy import linalg as la\n",
    "import numpy as np\n",
    "import matplotlib\n",
    "from mpl_toolkits.mplot3d import Axes3D\n",
    "import matplotlib.pyplot as plt\n",
    "%matplotlib inline"
   ]
  },
  {
   "cell_type": "code",
   "execution_count": 3,
   "metadata": {
    "collapsed": true
   },
   "outputs": [],
   "source": [
    "def compute_view_matrix(position, target, up):\n",
    "    '''\n",
    "    Inputs: \n",
    "        position : 3D coordinates of the camera center in world coordinates\n",
    "        target : 3D coordinates of the camera target in world coordinates\n",
    "        up : vector specifying the up direction of the camera. should be orthogonal to (target-position)\n",
    "    Outputs:\n",
    "        P : 3 x 4 camera extrinsic matrix, a concatenation of rotation matrix and translation matrix\n",
    "    '''\n",
    "    L = target - position\n",
    "    L = L / np.linalg.norm(L)\n",
    "    s = np.cross(L, up)\n",
    "    s = s / np.linalg.norm(s)\n",
    "    u_prime = np.cross(s,L)\n",
    "    R = np.r_[s,u_prime,-L].reshape((3,3))\n",
    "    T = -R @ position\n",
    "    P = np.c_[R,T]\n",
    "    return P\n",
    "\n",
    "def project(position,target,up,X):\n",
    "    '''\n",
    "    Given camera extrinsic details, and 3D points X, \n",
    "    return the homogenous coordinates of Y,\n",
    "    which are projected into the camera plane.\n",
    "    See compute_view_matrix() details\n",
    "    '''\n",
    "    P = compute_view_matrix(position,target,up)\n",
    "    if len(X.shape) > 1:\n",
    "        _,n = X.shape\n",
    "        Y = P @ np.r_[X,np.ones((1,n))]\n",
    "        Y /= Y[2,:]\n",
    "        return Y,P\n",
    "    else:\n",
    "        Y = P @ np.r_[X,1]\n",
    "        Y /= Y[2]\n",
    "        return Y,P\n",
    "\n",
    "def fundamental_matrix(Y,Yp):\n",
    "    '''\n",
    "    Inputs:\n",
    "        Y : all keypoints from camera 1 in homogenous coordinates in a (3 x n_kp) matrix\n",
    "        Yp : same from camera 2\n",
    "    Outputs:\n",
    "        F : fundamental matrix between stereo cameras\n",
    "    Desc:\n",
    "        Solved using the 7-point algorithm. It is assumed that matching keypoints are aligned\n",
    "        by column. At least 7 matches required. \n",
    "    TODO: \n",
    "        Implement normalized version. Camera intrinsics needed?\n",
    "    '''\n",
    "    n = Y.shape[1]\n",
    "    X = np.zeros((n,9))\n",
    "    for i in range(n):\n",
    "        X[i] = np.outer(Yp[:,i],Y[:,i]).flatten()\n",
    "        \n",
    "    U,S,Vh = la.svd(X)\n",
    "    F = Vh[len(Vh)-1].reshape((3,3))\n",
    "    U,S,Vh = la.svd(F)\n",
    "    S[2] = 0\n",
    "    F = U @ np.diag(S) @ Vh\n",
    "    return F"
   ]
  },
  {
   "cell_type": "code",
   "execution_count": 17,
   "metadata": {
    "collapsed": true
   },
   "outputs": [],
   "source": [
    "def correct_f_translation(x1, x2, F0):\n",
    "    T1 = np.eye(3)\n",
    "    T1[:2,2] = x1[:2]\n",
    "    T2 = np.eye(3)\n",
    "    T2[:2,2] = x2[:2]\n",
    "    F = T2.T @ F0 @ T1\n",
    "    return T1, T2, F"
   ]
  },
  {
   "cell_type": "code",
   "execution_count": 30,
   "metadata": {
    "collapsed": true
   },
   "outputs": [],
   "source": [
    "def correct_f_rotation(F0):\n",
    "    # Compute left epipole\n",
    "    U,S,Vh = la.svd(F0.T)\n",
    "    e1 = Vh[2,:]\n",
    "    # Compute right epipole\n",
    "    U,S,Vh = la.svd(F0)\n",
    "    e2 = Vh[2,:]\n",
    "    \n",
    "    # Use epipoles to form rotation matrices\n",
    "    print(e1, e2)\n",
    "    R1 = np.eye(3)\n",
    "    R1[0,0] = e1[0]\n",
    "    R1[0,1] = e1[1]\n",
    "    R1[1,0] = -e1[1]\n",
    "    R1[1,1] = e1[0]\n",
    "    \n",
    "    R2 = np.eye(3)\n",
    "    R2[0,0] = e2[0]\n",
    "    R2[0,1] = e2[1]\n",
    "    R2[1,0] = -e2[1]\n",
    "    R2[1,1] = e2[0]\n",
    "    F = R2 @ F0 @ R1.T\n",
    "    return R1, R2, F"
   ]
  },
  {
   "cell_type": "code",
   "execution_count": 6,
   "metadata": {
    "collapsed": true
   },
   "outputs": [],
   "source": [
    "def correct_f(x1,x2,F0):\n",
    "    T1, T2, F_ = correct_f_translation(x1,x2,F0)\n",
    "    R1, R2, F = correct_f_rotation(F_)\n",
    "    \n",
    "    return F"
   ]
  },
  {
   "cell_type": "code",
   "execution_count": 12,
   "metadata": {
    "collapsed": false
   },
   "outputs": [],
   "source": [
    "# n Target points \n",
    "n = 10\n",
    "X = np.random.uniform(-3,3,(3,n))\n",
    "\n",
    "cam1_pos = np.array([-5,-5,0])\n",
    "cam1_tgt = np.array([0,0,0])\n",
    "cam1_up = np.array([0,0,1])\n",
    "Y1,_ = project(cam1_pos, cam1_tgt, cam1_up, X)\n",
    "\n",
    "cam2_pos = np.array([-5,5,1])\n",
    "cam2_tgt = np.array([0,0,0])\n",
    "cam2_up = np.array([0,-1,5])\n",
    "Y2,_ = project(cam2_pos, cam2_tgt, cam2_up, X)\n",
    "\n",
    "F0 = fundamental_matrix(Y1,Y2)"
   ]
  },
  {
   "cell_type": "code",
   "execution_count": 13,
   "metadata": {
    "collapsed": false
   },
   "outputs": [
    {
     "data": {
      "text/plain": [
       "<Figure size 432x288 with 0 Axes>"
      ]
     },
     "metadata": {},
     "output_type": "display_data"
    },
    {
     "data": {
      "image/png": "[encoded data removed]",
      "text/plain": [
       "<Figure size 864x432 with 2 Axes>"
      ]
     },
     "metadata": {
      "needs_background": "light"
     },
     "output_type": "display_data"
    }
   ],
   "source": [
    "plt.gray()\n",
    "fig = plt.figure(figsize=(12,6))\n",
    "ax = fig.add_subplot(121)\n",
    "ax.scatter(Y1[0,:],Y1[1,:],c=X[1,:],s=100)\n",
    "ax = fig.add_subplot(122)\n",
    "ax.scatter(Y2[0,:],Y2[1,:],c=X[1,:],s=100)\n",
    "plt.show()"
   ]
  },
  {
   "cell_type": "code",
   "execution_count": 31,
   "metadata": {
    "collapsed": false
   },
   "outputs": [
    {
     "name": "stdout",
     "output_type": "stream",
     "text": [
      "[ 0.63744169  0.29760519 -0.71070334] [-0.71798865  0.33398818 -0.61069157]\n"
     ]
    }
   ],
   "source": [
    "y1 = Y1[:,0]\n",
    "y2 = Y2[:,0]\n",
    "F = correct_f(y1,y2,F0)"
   ]
  },
  {
   "cell_type": "code",
   "execution_count": 32,
   "metadata": {
    "collapsed": false
   },
   "outputs": [
    {
     "name": "stdout",
     "output_type": "stream",
     "text": [
      "[[-2.02976714e-03 -2.79093042e-01 -3.91510628e-01]\n",
      " [-2.77971064e-01 -4.89507390e-04  3.28828696e-01]\n",
      " [ 2.67704685e-01  2.24844426e-01  3.05311332e-16]]\n"
     ]
    }
   ],
   "source": [
    "print(F)"
   ]
  },
  {
   "cell_type": "code",
   "execution_count": 34,
   "metadata": {
    "collapsed": false
   },
   "outputs": [
    {
     "data": {
      "text/plain": [
       "-0.23369965253504463"
      ]
     },
     "execution_count": 34,
     "metadata": {},
     "output_type": "execute_result"
    }
   ],
   "source": [
    " 3.28828696e-01 * -0.71070334"
   ]
  }
 ],
 "metadata": {
  "anaconda-cloud": {},
  "kernelspec": {
   "display_name": "Python [conda env:py37]",
   "language": "python",
   "name": "conda-env-py37-py"
  },
  "language_info": {
   "codemirror_mode": {
    "name": "ipython",
    "version": 3
   },
   "file_extension": ".py",
   "mimetype": "text/x-python",
   "name": "python",
   "nbconvert_exporter": "python",
   "pygments_lexer": "ipython3",
   "version": "3.5.6"
  }
 },
 "nbformat": 4,
 "nbformat_minor": 1
}
