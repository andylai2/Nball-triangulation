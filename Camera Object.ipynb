{
 "cells": [
  {
   "cell_type": "code",
   "execution_count": 1,
   "metadata": {
    "collapsed": true
   },
   "outputs": [],
   "source": [
    "import numpy as np"
   ]
  },
  {
   "cell_type": "code",
   "execution_count": 2,
   "metadata": {
    "collapsed": true
   },
   "outputs": [],
   "source": [
    "class Camera:\n",
    "    def __init__(self):\n",
    "        self.f = 1\n",
    "        self.u = 0\n",
    "        self.v = 0\n",
    "        self.alpha = 10\n",
    "        self.beta = 10\n",
    "        self.gamma = 0\n",
    "        \n",
    "    def set_intrinsics(self, focal_lnegth, scale_fator, principal_point, center, heading, skew=np.pi/2):\n",
    "        self.f = focal_length\n",
    "        self.u = principal_point[0]\n",
    "        self.v = principal_point[1]\n",
    "        self.alpha = self.f * scale_factor[0]\n",
    "        self.beta = self.f * scale_factor[1] / np.sin( skew )\n",
    "        self.gamma = -self.alpha / np.tan( skew )\n",
    "        \n",
    "    def get_intrinsic_matrix(self):\n",
    "        K = np.zeros((3,4))\n",
    "        K[0,0:3] = [self.alpha, self.gamma, self.u]\n",
    "        K[1,1:3] = [self.beta, self.v]\n",
    "        K[2,2] = 1\n",
    "        return K\n",
    "    \n",
    "    def compute_view_matrix(self, position, target, up):\n",
    "        L = target - position\n",
    "        L = L / np.linalg.norm(L)\n",
    "        s = np.cross(L, up)\n",
    "        s = s / np.linalg.norm(s)\n",
    "        u_prime = np.cross(s,L)\n",
    "        self.R = np.r_[s,u_prime,-L].reshape((3,3))\n",
    "        self.T = -R @ position\n",
    "    \n",
    "    def set_extrinsincs(self, rotation, translation):\n",
    "        self.R = rotation\n",
    "        self.T = translation\n",
    "        \n",
    "    def get_extrinsic_matrix(self):\n",
    "        return np.c_[self.R, self.T]\n",
    "    \n",
    "    def get_projection_matrix(self):\n",
    "        return self.get_intrinsic_matrix @ self.get_extrinsic_matrix\n",
    "    \n",
    "    def project(self, target):\n",
    "        P = self.get_projection_matrix\n",
    "        return P @ target\n",
    "        "
   ]
  },
  {
   "cell_type": "code",
   "execution_count": null,
   "metadata": {
    "collapsed": true
   },
   "outputs": [],
   "source": []
  }
 ],
 "metadata": {
  "kernelspec": {
   "display_name": "Python [conda env:py37]",
   "language": "python",
   "name": "conda-env-py37-py"
  },
  "language_info": {
   "codemirror_mode": {
    "name": "ipython",
    "version": 3
   },
   "file_extension": ".py",
   "mimetype": "text/x-python",
   "name": "python",
   "nbconvert_exporter": "python",
   "pygments_lexer": "ipython3",
   "version": "3.5.6"
  }
 },
 "nbformat": 4,
 "nbformat_minor": 1
}
