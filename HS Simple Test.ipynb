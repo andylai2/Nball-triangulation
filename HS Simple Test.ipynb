{
 "cells": [
  {
   "cell_type": "code",
   "execution_count": 1,
   "metadata": {
    "collapsed": true
   },
   "outputs": [],
   "source": [
    "import numpy as np\n",
    "from scipy import linalg as la\n",
    "import numpy as np\n",
    "import matplotlib\n",
    "from mpl_toolkits.mplot3d import Axes3D\n",
    "import matplotlib.pyplot as plt\n",
    "%run camera_functions\n",
    "%matplotlib inline"
   ]
  },
  {
   "cell_type": "code",
   "execution_count": 2,
   "metadata": {
    "collapsed": true
   },
   "outputs": [],
   "source": [
    "def compute_view_matrix(position, target, up):\n",
    "    '''\n",
    "    Inputs: \n",
    "        position : 3D coordinates of the camera center in world coordinates\n",
    "        target : 3D coordinates of the camera target in world coordinates\n",
    "        up : vector specifying the up direction of the camera. should be orthogonal to (target-position)\n",
    "    Outputs:\n",
    "        P : 3 x 4 camera extrinsic matrix, a concatenation of rotation matrix and translation matrix\n",
    "    '''\n",
    "    L = target - position\n",
    "    L = L / np.linalg.norm(L)\n",
    "    s = np.cross(L, up)\n",
    "    s = s / np.linalg.norm(s)\n",
    "    u_prime = np.cross(s,L)\n",
    "    R = np.r_[s,u_prime,-L].reshape((3,3))\n",
    "    T = -R @ position\n",
    "    P = np.c_[R,T]\n",
    "    return P\n",
    "\n",
    "def project(position,target,up,X):\n",
    "    '''\n",
    "    Given camera extrinsic details, and 3D points X, \n",
    "    return the homogenous coordinates of Y,\n",
    "    which are projected into the camera plane.\n",
    "    See compute_view_matrix() details\n",
    "    '''\n",
    "    P = compute_view_matrix(position,target,up)\n",
    "    if len(X.shape) > 1:\n",
    "        _,n = X.shape\n",
    "        Y = P @ np.r_[X,np.ones((1,n))]\n",
    "        Y /= Y[2,:]\n",
    "        return Y\n",
    "    else:\n",
    "        Y = P @ np.r_[X,1]\n",
    "        Y /= Y[2]\n",
    "        return Y\n",
    "\n",
    "def fundamental_matrix(Y,Yp):\n",
    "    '''\n",
    "    Inputs:\n",
    "        Y : all keypoints from camera 1 in homogenous coordinates in a (3 x n_kp) matrix\n",
    "        Yp : same from camera 2\n",
    "    Outputs:\n",
    "        F : fundamental matrix between stereo cameras\n",
    "    Desc:\n",
    "        Solved using the 7-point algorithm. It is assumed that matching keypoints are aligned\n",
    "        by column. At least 7 matches required. \n",
    "    TODO: \n",
    "        Implement normalized version. Camera intrinsics needed?\n",
    "    '''\n",
    "    n = Y.shape[1]\n",
    "    X = np.zeros((n,9))\n",
    "    for i in range(n):\n",
    "        X[i] = np.outer(Yp[:,i],Y[:,i]).flatten()\n",
    "        \n",
    "    U,S,Vh = la.svd(X)\n",
    "    F = Vh[len(Vh)-1].reshape((3,3))\n",
    "    U,S,Vh = la.svd(F)\n",
    "    S[2] = 0\n",
    "    F = U @ np.diag(S) @ Vh\n",
    "    return F"
   ]
  },
  {
   "cell_type": "code",
   "execution_count": 3,
   "metadata": {
    "collapsed": true
   },
   "outputs": [],
   "source": [
    "def rigid_normalize(x,e):\n",
    "    # Transform x to be at the origin and compute L\n",
    "    L = np.eye(3)\n",
    "    L[:2,2] = -x[:2]\n",
    "#     e = L @ e\n",
    "    # Find rotation theta by using the epipolar line\n",
    "    theta = np.arctan( - (e[1] - e[2] * x[1]) / (e[0] - e[2] * x[0]) )\n",
    "    R = np.array( [ [np.cos(theta), -np.sin(theta),0],[np.sin(theta),np.cos(theta),0],[0,0,1] ] )\n",
    "    T = R @ L\n",
    "    # Enforce that RLe[0] = 1\n",
    "#     T /= (T @ e)[0]\n",
    "#     print( (T @ e)[2])\n",
    "    print( (T @ e)[2] / (T @ e)[0])\n",
    "    return T\n",
    "    "
   ]
  },
  {
   "cell_type": "code",
   "execution_count": 4,
   "metadata": {
    "collapsed": true
   },
   "outputs": [],
   "source": [
    "def fundamental_normalize(x,xp,e,ep,F0):\n",
    "    '''\n",
    "    Calculate the fundamental matrix between a pair of points that are\n",
    "    normalized to be at the origin, and for the epipoles normalized to\n",
    "    be on the x axis\n",
    "    '''\n",
    "    print('f = ')\n",
    "    T = rigid_normalize(x,e)\n",
    "    print('f\\' = ')\n",
    "    Tp = rigid_normalize(xp,ep)\n",
    "#     F = Tp @ F0 @ la.pinv(T)\n",
    "    F = la.pinv(Tp.T) @ F0 @ la.pinv(T)\n",
    "    return T,Tp,F\n",
    "    "
   ]
  },
  {
   "cell_type": "code",
   "execution_count": 14,
   "metadata": {
    "collapsed": false
   },
   "outputs": [],
   "source": [
    "X = np.zeros(3)\n",
    "pos1 = np.array([0,1,0])\n",
    "tgt1 = np.array([0,0,0])\n",
    "up1 = np.array([0,0,1])\n",
    "pos2 = np.array([1,0,0])\n",
    "tgt2 = np.array([0,0,0])\n",
    "up2 = np.array([0,0,1])\n",
    "\n",
    "Y1 = project(pos1,tgt1,up1,X)\n",
    "Y2 = project(pos2,tgt2,up2,X)\n",
    "e1 = project(pos1,tgt1,up1,pos2)\n",
    "e2 = project(pos2,tgt2,up2,pos1)\n",
    "F0 = np.array([[0,-.5,0],[-.5,0,.5],[0,-.5,0]])\n",
    "\n"
   ]
  },
  {
   "cell_type": "code",
   "execution_count": 19,
   "metadata": {
    "collapsed": false
   },
   "outputs": [
    {
     "name": "stdout",
     "output_type": "stream",
     "text": [
      "f = \n",
      "1.0\n",
      "f' = \n",
      "-1.0\n"
     ]
    }
   ],
   "source": [
    "T,Tp,F = fundamental_normalize(Y1,Y2,e1,e2,F0)"
   ]
  },
  {
   "cell_type": "code",
   "execution_count": 20,
   "metadata": {
    "collapsed": false
   },
   "outputs": [
    {
     "name": "stdout",
     "output_type": "stream",
     "text": [
      "[[ 0.  -0.5  0. ]\n",
      " [-0.5  0.   0.5]\n",
      " [ 0.  -0.5  0. ]]\n"
     ]
    }
   ],
   "source": [
    "print(F)"
   ]
  },
  {
   "cell_type": "code",
   "execution_count": null,
   "metadata": {
    "collapsed": true
   },
   "outputs": [],
   "source": []
  }
 ],
 "metadata": {
  "kernelspec": {
   "display_name": "Python [conda env:py37]",
   "language": "python",
   "name": "conda-env-py37-py"
  },
  "language_info": {
   "codemirror_mode": {
    "name": "ipython",
    "version": 3
   },
   "file_extension": ".py",
   "mimetype": "text/x-python",
   "name": "python",
   "nbconvert_exporter": "python",
   "pygments_lexer": "ipython3",
   "version": "3.5.6"
  }
 },
 "nbformat": 4,
 "nbformat_minor": 1
}
